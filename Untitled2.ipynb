{
  "nbformat": 4,
  "nbformat_minor": 0,
  "metadata": {
    "colab": {
      "provenance": [],
      "collapsed_sections": [],
      "authorship_tag": "ABX9TyNkMPzIQ14gS+XBJHPP7css",
      "include_colab_link": true
    },
    "kernelspec": {
      "name": "python3",
      "display_name": "Python 3"
    },
    "language_info": {
      "name": "python"
    }
  },
  "cells": [
    {
      "cell_type": "markdown",
      "metadata": {
        "id": "view-in-github",
        "colab_type": "text"
      },
      "source": [
        "<a href=\"https://colab.research.google.com/github/CarlosSosa1985/arquivos-legais/blob/master/Untitled2.ipynb\" target=\"_parent\"><img src=\"https://colab.research.google.com/assets/colab-badge.svg\" alt=\"Open In Colab\"/></a>"
      ]
    },
    {
      "cell_type": "markdown",
      "source": [
        "Questão 1 - Uma empresa te enviou 3 listas, uma representa a largura, outra representa a altura e a terceira representa a área em m2 de determinado terreno, todas estão ordenadas entretanto tem alguns valores faltantes que precisam ser preenchidos, preencha os valores faltantes: Todos os terrenos dessa empresa são retangulares e você pode utilizar a fórmula abaixo: a = b. h (área = largura * altura) Utilize as listas abaixo: area = [200,'null',720,1500,1000,275,'null',1200,2400,'null'] altura = ['null',30,40,30,10,25,33,'null',12,20] largura = [20,20,'null',50,100,'null',30,100,200,10]\n"
      ],
      "metadata": {
        "id": "KRbyAFEKPbpU"
      }
    },
    {
      "cell_type": "code",
      "execution_count": null,
      "metadata": {
        "colab": {
          "base_uri": "https://localhost:8080/"
        },
        "id": "vXh5DsQsPRX2",
        "outputId": "504b6a4b-dd49-40bf-c815-06fc6c9105d9"
      },
      "outputs": [
        {
          "output_type": "stream",
          "name": "stdout",
          "text": [
            "10 10 10\n",
            "[200, 600, 720, 1500, 1000, 275, 990, 1200, 2400, 200]\n",
            "[20, 20, 18, 50, 100, 11, 30, 100, 200, 10]\n",
            "[10, 30, 40, 30, 10, 25, 33, 12, 12, 20]\n",
            "Largura 559 é maior que altura 222\n",
            "9085\n",
            "908.5\n"
          ]
        }
      ],
      "source": [
        "#largura, altura e area\n",
        "\n",
        "\n",
        "\n",
        "area = [200,'null',720,1500,1000,275,'null',1200,2400,'null'] \n",
        "altura = ['null',30,40,30,10,25,33,'null',12,20] \n",
        "largura = [20,20,'null',50,100,'null',30,100,200,10]\n",
        "\n",
        "print(len(area),len(altura),len(largura))\n",
        "#medidas = [area, altura, largura]\n",
        "\n",
        "#area = largura * altura\n",
        "\n",
        "#print(len(area))\n",
        "#print(len(altura))\n",
        "#print(len(largura))\n",
        "\n",
        "\n",
        "def preenche (a,b,h):\n",
        "  areaTotal = []\n",
        "  larguraTotal = []\n",
        "  alturaTotal = []\n",
        "  for area, largura, altura in zip(a,b,h):\n",
        "    if type(area) !=int:\n",
        "      areaTotal.append(int(largura*altura))\n",
        "    else:\n",
        "      areaTotal.append(int(area))\n",
        "    if type(largura) !=int:\n",
        "      larguraTotal.append(int(area/altura))\n",
        "    else:\n",
        "      larguraTotal.append(int(largura))\n",
        "    if type(altura) !=int:\n",
        "      alturaTotal.append(int(area/largura))\n",
        "    else:\n",
        "      alturaTotal.append(int(altura))\n",
        "  return (areaTotal, larguraTotal, alturaTotal)\n",
        "\n",
        "(area, largura, altura) = preenche(area, largura, altura)\n",
        "\n",
        "print(area)\n",
        "print(largura)\n",
        "print(altura)\n",
        "\n",
        "totalAltura = sum(altura)\n",
        "totalLargura = sum(largura)\n",
        "if totalAltura > totalLargura:\n",
        "  print(f'Altura {totalAltura} é maior que largura {totalLargura}')\n",
        "else:\n",
        "  print(f'Largura {totalLargura} é maior que altura {totalAltura}')\n",
        "\n",
        "\n",
        "totalTerreno = sum(area)\n",
        "mediaTerreno = sum(area)/len(area)\n",
        "\n",
        "print(totalTerreno)\n",
        "print(mediatotalTerreno)\n",
        "\n",
        "\n"
      ]
    },
    {
      "cell_type": "markdown",
      "source": [
        "Desafio: Quais as palavras que mais apareceram nos comentários\n",
        "\n",
        "Você recebeu um arquivo chamado usuarios_feedback, nesse arquivo contém o comentário, nome, gênero e nota de usuários referente a um produto de sua empresas. Você precisa verificar quais as palavras que mais apareceram nos comentários: usuarios_feedback = [{'nome':'Peter','nota':9,'genero':'M','comentario':'bom demais e agil'}, {'nome':'Joao','nota':10,'genero':'M','comentario':'agil e eficiente'}, {'nome':'user_not_found','nota':0,'genero':'M','comentario':'Horrível'}, {'nome':'Marta','nota':10,'genero':'F','comentario':'muito agil bom demais'}, {'nome':'Beatriz','nota':10,'genero':'F','comentario':'rápido e eficaz'}, {'nome':'user_not_found','nota':2,'genero':'M','comentario':'ruim'}, {'nome':'Jéssica','nota':10,'genero':'F','comentario':'agil'}, {'nome':'José','nota':7,'genero':'M','comentario':'ok'}, {'nome':'Elias','nota':5,'genero':'M','comentario':'precisa melhorar'}, {'nome':'Miriã','nota':9,'genero':'F','comentario':'foi muito agil e rápido'}, {'nome':'Maria','nota':10,'genero':'F','comentario':'muito bom e agil'}]"
      ],
      "metadata": {
        "id": "Iop2l7YbPaON"
      }
    },
    {
      "cell_type": "code",
      "source": [
        "#Desafio: Quais as palavras que mais apareceram nos comentários\n",
        "\n",
        "usuarios = [{'nome':'Peter','nota':9,'genero':'M','comentario':'bom demais e agil'}, \n",
        "            {'nome':'Joao','nota':10,'genero':'M','comentario':'agil e eficiente'}, \n",
        "            {'nome':'user_not_found','nota':0,'genero':'M','comentario':'Horrível'}, \n",
        "            {'nome':'Marta','nota':10,'genero':'F','comentario':'muito agil bom demais'}, \n",
        "            {'nome':'Beatriz','nota':10,'genero':'F','comentario':'rápido e eficaz'}, \n",
        "            {'nome':'user_not_found','nota':2,'genero':'M','comentario':'ruim'}, \n",
        "            {'nome':'Jéssica','nota':10,'genero':'F','comentario':'agil'}, \n",
        "            {'nome':'José','nota':7,'genero':'M','comentario':'ok'}, \n",
        "            {'nome':'Elias','nota':5,'genero':'M','comentario':'precisa melhorar'}, \n",
        "            {'nome':'Miriã','nota':9,'genero':'F','comentario':'foi muito agil e rápido'}, \n",
        "            {'nome':'Maria','nota':10,'genero':'F','comentario':'muito bom e agil'}]\n",
        "\n",
        "coletaComentario = []\n",
        "textoPicote = []\n",
        "\n",
        "for v in usuarios:\n",
        "  coletaComentario.append(v['comentario'].split())\n",
        "  textoPicote.extend(v['comentario'].split())\n",
        "\n",
        "print(coletaComentario)\n",
        "print(textoPicote)\n",
        "\n",
        "textoUnico = []\n",
        "for v in textoPicote:\n",
        "  if v not in textoUnico:\n",
        "    textoUnico.append(v)\n",
        "\n",
        "textoUnico = sorted(textoUnico)\n",
        "print(textoUnico)\n",
        "for palavras in textoUnico:\n",
        "  print(f'Termo {palavras} foi usada {textoPicote.count(palavras)} vezes')\n",
        "\n"
      ],
      "metadata": {
        "colab": {
          "base_uri": "https://localhost:8080/"
        },
        "id": "CqPkxw-FafqA",
        "outputId": "40596df7-06bd-4e04-f649-87c822dd74b0"
      },
      "execution_count": null,
      "outputs": [
        {
          "output_type": "stream",
          "name": "stdout",
          "text": [
            "[['bom', 'demais', 'e', 'agil'], ['agil', 'e', 'eficiente'], ['Horrível'], ['muito', 'agil', 'bom', 'demais'], ['rápido', 'e', 'eficaz'], ['ruim'], ['agil'], ['ok'], ['precisa', 'melhorar'], ['foi', 'muito', 'agil', 'e', 'rápido'], ['muito', 'bom', 'e', 'agil']]\n",
            "['bom', 'demais', 'e', 'agil', 'agil', 'e', 'eficiente', 'Horrível', 'muito', 'agil', 'bom', 'demais', 'rápido', 'e', 'eficaz', 'ruim', 'agil', 'ok', 'precisa', 'melhorar', 'foi', 'muito', 'agil', 'e', 'rápido', 'muito', 'bom', 'e', 'agil']\n",
            "['Horrível', 'agil', 'bom', 'demais', 'e', 'eficaz', 'eficiente', 'foi', 'melhorar', 'muito', 'ok', 'precisa', 'ruim', 'rápido']\n",
            "Termo Horrível foi usada 1 vezes\n",
            "Termo agil foi usada 6 vezes\n",
            "Termo bom foi usada 3 vezes\n",
            "Termo demais foi usada 2 vezes\n",
            "Termo e foi usada 5 vezes\n",
            "Termo eficaz foi usada 1 vezes\n",
            "Termo eficiente foi usada 1 vezes\n",
            "Termo foi foi usada 1 vezes\n",
            "Termo melhorar foi usada 1 vezes\n",
            "Termo muito foi usada 3 vezes\n",
            "Termo ok foi usada 1 vezes\n",
            "Termo precisa foi usada 1 vezes\n",
            "Termo ruim foi usada 1 vezes\n",
            "Termo rápido foi usada 2 vezes\n"
          ]
        }
      ]
    },
    {
      "cell_type": "code",
      "source": [],
      "metadata": {
        "id": "CSUC3TkXkJzq"
      },
      "execution_count": null,
      "outputs": []
    },
    {
      "cell_type": "code",
      "source": [
        "#Desafio: Média das notas por genero.\n",
        "\n",
        "usuarios = [{'nome':'Peter','nota':9,'genero':'M','comentario':'bom demais e agil'}, \n",
        "            {'nome':'Joao','nota':10,'genero':'M','comentario':'agil e eficiente'}, \n",
        "            {'nome':'user_not_found','nota':0,'genero':'M','comentario':'Horrível'}, \n",
        "            {'nome':'Marta','nota':10,'genero':'F','comentario':'muito agil bom demais'}, \n",
        "            {'nome':'Beatriz','nota':10,'genero':'F','comentario':'rápido e eficaz'}, \n",
        "            {'nome':'user_not_found','nota':2,'genero':'M','comentario':'ruim'}, \n",
        "            {'nome':'Jéssica','nota':10,'genero':'F','comentario':'agil'}, \n",
        "            {'nome':'José','nota':7,'genero':'M','comentario':'ok'}, \n",
        "            {'nome':'Elias','nota':5,'genero':'M','comentario':'precisa melhorar'}, \n",
        "            {'nome':'Miriã','nota':9,'genero':'F','comentario':'foi muito agil e rápido'}, \n",
        "            {'nome':'Maria','nota':10,'genero':'F','comentario':'muito bom e agil'}]\n",
        "#for v in usuarios:\n",
        "#  print(f\"A sequencia de generos é {v['genero']}\")\n",
        "\n",
        "#def mediasGenero(usuarios):\n",
        "mas1 = []\n",
        "fem1 = []\n",
        "for v in usuarios:\n",
        "  if v['genero'] == 'M':\n",
        "    mas1.append(v['nota'])\n",
        "  elif v['genero'] == 'F':\n",
        "    fem1.append(v['nota'])\n",
        "\n",
        "#return mas1,fem1\n",
        "#print(mas)\n",
        "#print(fem)\n",
        "\n",
        "print(f'Masculino: Média = {sum(fem1)/len(fem1):.2f} Total de casos {len(fem1)} │ Feminino: Média = {sum(mas1)/len(mas1):.2f} Total de casos {len(mas1)} ')\n",
        "print(mas1)\n",
        "print(fem1)"
      ],
      "metadata": {
        "colab": {
          "base_uri": "https://localhost:8080/"
        },
        "id": "-u25OTUVluZp",
        "outputId": "b9e122ac-d32b-4fe5-aa23-4ed613df0bd4"
      },
      "execution_count": null,
      "outputs": [
        {
          "output_type": "stream",
          "name": "stdout",
          "text": [
            "A sequencia de generos é M\n",
            "A sequencia de generos é M\n",
            "A sequencia de generos é M\n",
            "A sequencia de generos é F\n",
            "A sequencia de generos é F\n",
            "A sequencia de generos é M\n",
            "A sequencia de generos é F\n",
            "A sequencia de generos é M\n",
            "A sequencia de generos é M\n",
            "A sequencia de generos é F\n",
            "A sequencia de generos é F\n",
            "Masculino: Média = 9.80 Total de casos 5 │ Feminino: Média = 5.50 Total de casos 6 \n",
            "[9, 10, 0, 2, 7, 5]\n",
            "[10, 10, 10, 9, 10]\n"
          ]
        }
      ]
    },
    {
      "cell_type": "code",
      "source": [
        "dados = [{'treinamento':'Scrum','moedas':30}, \n",
        "         {'treinamento':'Data Science','moedas':40}, \n",
        "         {'treinamento':'Gestão de Projetos','moedas':50}, \n",
        "         {'treinamento':'Marketing','moedas':30}, \n",
        "         {'treinamento':'Cloud','moedas':20}, \n",
        "         {'treinamento':'Blockchain','moedas':10}, \n",
        "         {'treinamento':'Python','moedas':30}] \n",
        "         \n",
        "pedidos = ['Scrum','Data Science','Gestão de Projetos','Marketing','Cloud','Python','Python','Python', 'Scrum','Data Science','Gestão de Projetos','Marketing','Data Science','Gestão de Projetos', 'Python','Marketing','Data Science','Gestão de Projetos','Data Science','Gestão de Projetos','Data Science']\n",
        "\n",
        "\n",
        "pedidosUnico = []\n",
        "print = []\n",
        "\n"
      ],
      "metadata": {
        "id": "1DbIQVrqr9r4"
      },
      "execution_count": null,
      "outputs": []
    },
    {
      "cell_type": "markdown",
      "source": [
        "Sua empresa te passou uma lista com requisições de treinamentos (muitos repetidos), você tem que definir o cenário que melhor atenda os pedidos, o budget é de 150 moedas e você tem um dicionário que contém o nome do treinamento e o valor dele treinamentos = [{'treinamento':'Scrum','moedas':30}, {'treinamento':'Data Science','moedas':40}, {'treinamento':'Gestão de Projetos','moedas':50}, {'treinamento':'Marketing','moedas':30}, {'treinamento':'Cloud','moedas':20}, {'treinamento':'Blockchain','moedas':10}, {'treinamento':'Python','moedas':30}] pedidos = ['Scrum','Data Science','Gestão de Projetos','Marketing','Cloud','Python','Python','Python', 'Scrum','Data Science','Gestão de Projetos','Marketing','Data Science','Gestão de Projetos', 'Python','Marketing','Data Science','Gestão de Projetos','Data Science','Gestão de Projetos','Data Science']"
      ],
      "metadata": {
        "id": "tp74d_pJsiuT"
      }
    },
    {
      "cell_type": "code",
      "source": [
        "nome = input('Digite seu nome ')\n",
        "print(nome.capitalize()) # primeira letra em maisculo\n",
        "print(nome.upper()) # tudo maiusculo\n",
        "\n",
        "valida = 'U'\n",
        "\n",
        "if valida is.upper:\n",
        "  print('Sim')\n",
        "else:\n",
        "  print('Não')"
      ],
      "metadata": {
        "colab": {
          "base_uri": "https://localhost:8080/",
          "height": 130
        },
        "id": "Tgj3JybjvEyA",
        "outputId": "1937407c-3c6a-4c9d-df53-25b50ebce7db"
      },
      "execution_count": null,
      "outputs": [
        {
          "output_type": "error",
          "ename": "SyntaxError",
          "evalue": "ignored",
          "traceback": [
            "\u001b[0;36m  File \u001b[0;32m\"<ipython-input-3-bbd2840db6d4>\"\u001b[0;36m, line \u001b[0;32m7\u001b[0m\n\u001b[0;31m    if valida is.upper:\u001b[0m\n\u001b[0m                ^\u001b[0m\n\u001b[0;31mSyntaxError\u001b[0m\u001b[0;31m:\u001b[0m invalid syntax\n"
          ]
        }
      ]
    },
    {
      "cell_type": "markdown",
      "source": [],
      "metadata": {
        "id": "8Bu3UKZZaf6g"
      }
    }
  ]
}